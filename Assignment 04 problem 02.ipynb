{
 "cells": [
  {
   "cell_type": "code",
   "execution_count": 4,
   "id": "e32a17fb",
   "metadata": {},
   "outputs": [],
   "source": [
    "# 02\n",
    "# Write a Python program to triple all numbers of a given list of integers. Use Python map.\n",
    "# sample list: [1, 2, 3, 4, 5, 6, 7]\n",
    "# Triple of list numbers:\n",
    "# [3, 6, 9, 12, 15, 18, 21]\n",
    "# Answer"
   ]
  },
  {
   "cell_type": "code",
   "execution_count": 5,
   "id": "0b14cd25",
   "metadata": {},
   "outputs": [
    {
     "name": "stdout",
     "output_type": "stream",
     "text": [
      "Enter list elements:10 20 30 5 7 6 50\n",
      "Sample list is [10, 20, 30, 5, 7, 6, 50]\n",
      "output is [30, 60, 90, 15, 21, 18, 150]\n"
     ]
    }
   ],
   "source": [
    "# using lambda\n",
    "l= list(map(int,input(\"Enter list elements:\").split()))\n",
    "print(\"Sample list is\",l)\n",
    "l1= list(map(lambda x:x*3,l))\n",
    "print(\"output is\",l1)"
   ]
  },
  {
   "cell_type": "code",
   "execution_count": 7,
   "id": "650b9628",
   "metadata": {},
   "outputs": [
    {
     "name": "stdout",
     "output_type": "stream",
     "text": [
      "Enter list elements:10 20 30 5 7 6 50\n",
      "Sample list is [10, 20, 30, 5, 7, 6, 50]\n",
      "output is [30, 60, 90, 15, 21, 18, 150]\n"
     ]
    }
   ],
   "source": [
    "# without using lambda\n",
    "l= list(map(int,input(\"Enter list elements:\").split()))\n",
    "print(\"Sample list is\",l)\n",
    "def triple(x):\n",
    "    return x*3\n",
    "l1= list(map(triple,l))\n",
    "print(\"output is\",l1)"
   ]
  }
 ],
 "metadata": {
  "kernelspec": {
   "display_name": "Python 3 (ipykernel)",
   "language": "python",
   "name": "python3"
  },
  "language_info": {
   "codemirror_mode": {
    "name": "ipython",
    "version": 3
   },
   "file_extension": ".py",
   "mimetype": "text/x-python",
   "name": "python",
   "nbconvert_exporter": "python",
   "pygments_lexer": "ipython3",
   "version": "3.9.12"
  }
 },
 "nbformat": 4,
 "nbformat_minor": 5
}
